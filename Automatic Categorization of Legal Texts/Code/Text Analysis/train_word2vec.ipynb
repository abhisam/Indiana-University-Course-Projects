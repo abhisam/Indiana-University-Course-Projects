{
 "cells": [
  {
   "cell_type": "code",
   "execution_count": 17,
   "metadata": {
    "collapsed": true
   },
   "outputs": [],
   "source": [
    "import os\n",
    "import csv\n",
    "import numpy as np\n",
    "import pandas as pd"
   ]
  },
  {
   "cell_type": "code",
   "execution_count": 18,
   "metadata": {
    "collapsed": true
   },
   "outputs": [],
   "source": [
    "cases = []\n",
    "count = 0\n",
    "in_basedir = \"../IN-gov-txts/\"\n",
    "cn_basedir = \"../CA-gov-txts/\"\n",
    "for txt in os.listdir(in_basedir):\n",
    "    with open(in_basedir + txt) as file:\n",
    "        cases.append(file.read())\n",
    "        count += 1\n",
    "        \n",
    "for txt in os.listdir(cn_basedir):\n",
    "    with open(cn_basedir + txt) as file:\n",
    "        cases.append(file.read())\n",
    "        count += 1\n",
    "\n",
    "cases = np.array(cases, dtype = object)\n",
    "index = np.arange(1, count+1)\n",
    "df = pd.DataFrame(cases, index, columns = ['txt'])"
   ]
  },
  {
   "cell_type": "code",
   "execution_count": 19,
   "metadata": {
    "collapsed": false
   },
   "outputs": [
    {
     "name": "stdout",
     "output_type": "stream",
     "text": [
      "(2742, 1)\n",
      "Int64Index([   1,    2,    3,    4,    5,    6,    7,    8,    9,   10,\n",
      "            ...\n",
      "            2733, 2734, 2735, 2736, 2737, 2738, 2739, 2740, 2741, 2742],\n",
      "           dtype='int64', length=2742)\n"
     ]
    }
   ],
   "source": [
    "print df.shape\n",
    "print df.index"
   ]
  },
  {
   "cell_type": "code",
   "execution_count": 20,
   "metadata": {
    "collapsed": false
   },
   "outputs": [
    {
     "name": "stdout",
     "output_type": "stream",
     "text": [
      "1    ATTORNEYS FOR APPELLANT\\nRobert D. MacGill\\nMi...\n",
      "2    ATTORNEYS FOR APPELLANT\\nJohn D. LaDue\\nErin L...\n",
      "3    ATTORNEYS FOR APPELLANTS\\nBryan L. Ciyou\\nLori...\n",
      "Name: txt, dtype: object\n"
     ]
    }
   ],
   "source": [
    "print df['txt'][:3]"
   ]
  },
  {
   "cell_type": "code",
   "execution_count": 21,
   "metadata": {
    "collapsed": false
   },
   "outputs": [
    {
     "name": "stdout",
     "output_type": "stream",
     "text": [
      "1    ATTORNEYS FOR APPELLANT\\nRobert D. MacGill\\nMi...\n",
      "2    ATTORNEYS FOR APPELLANT\\nJohn D. LaDue\\nErin L...\n",
      "3    ATTORNEYS FOR APPELLANTS\\nBryan L. Ciyou\\nLori...\n",
      "Name: txt, dtype: object\n",
      "                                                 txt\n",
      "1  ATTORNEYS FOR APPELLANT\\nRobert D. MacGill\\nMi...\n",
      "2  ATTORNEYS FOR APPELLANT\\nJohn D. LaDue\\nErin L...\n",
      "3  ATTORNEYS FOR APPELLANTS\\nBryan L. Ciyou\\nLori...\n"
     ]
    }
   ],
   "source": [
    "print df.ix[:3]['txt']\n",
    "print df.ix[:3]"
   ]
  },
  {
   "cell_type": "code",
   "execution_count": 22,
   "metadata": {
    "collapsed": false
   },
   "outputs": [
    {
     "name": "stdout",
     "output_type": "stream",
     "text": [
      "                                                 txt\n",
      "1  ATTORNEYS FOR APPELLANT\\nRobert D. MacGill\\nMi...\n",
      "2  ATTORNEYS FOR APPELLANT\\nJohn D. LaDue\\nErin L...\n",
      "3  ATTORNEYS FOR APPELLANTS\\nBryan L. Ciyou\\nLori...\n"
     ]
    }
   ],
   "source": [
    "print df.iloc[:3]"
   ]
  },
  {
   "cell_type": "code",
   "execution_count": 23,
   "metadata": {
    "collapsed": false
   },
   "outputs": [
    {
     "name": "stdout",
     "output_type": "stream",
     "text": [
      "28510\n",
      "24927\n",
      "22769\n"
     ]
    }
   ],
   "source": [
    "print len(df.iloc[0]['txt'])\n",
    "print len(df.iloc[1]['txt'])\n",
    "print len(df.iloc[2]['txt'])"
   ]
  },
  {
   "cell_type": "code",
   "execution_count": 24,
   "metadata": {
    "collapsed": true
   },
   "outputs": [],
   "source": [
    "import nltk.data\n",
    "tokenizer = nltk.data.load('tokenizers/punkt/english.pickle')"
   ]
  },
  {
   "cell_type": "code",
   "execution_count": 25,
   "metadata": {
    "collapsed": false
   },
   "outputs": [
    {
     "name": "stderr",
     "output_type": "stream",
     "text": [
      "/Users/apple/miniconda/lib/python2.7/site-packages/bs4/__init__.py:198: UserWarning: \".\" looks like a filename, not markup. You should probably open this file and pass the filehandle into Beautiful Soup.\n",
      "  '\"%s\" looks like a filename, not markup. You should probably open this file and pass the filehandle into Beautiful Soup.' % markup)\n",
      "/Users/apple/miniconda/lib/python2.7/site-packages/bs4/__init__.py:207: UserWarning: \"http://www.askoxford.com/asktheexperts/faq/usage/website?view=uk.\" looks like a URL. Beautiful Soup is not an HTTP client. You should probably use an HTTP client to get the document behind the URL, and feed that document to Beautiful Soup.\n",
      "  '\"%s\" looks like a URL. Beautiful Soup is not an HTTP client. You should probably use an HTTP client to get the document behind the URL, and feed that document to Beautiful Soup.' % markup)\n"
     ]
    },
    {
     "name": "stdout",
     "output_type": "stream",
     "text": [
      "Cleaning and parsing the case files...\n",
      "\n"
     ]
    }
   ],
   "source": [
    "from Word2VecUtility import Word2VecUtility\n",
    "\n",
    "case_sents = []\n",
    "print \"Cleaning and parsing the case files...\\n\"\n",
    "for i in xrange( 0, len(df[\"txt\"])):\n",
    "    case_sents += Word2VecUtility.review_to_sentences(df.iloc[i][\"txt\"], tokenizer,\\remove_stopwords=True)"
   ]
  },
  {
   "cell_type": "code",
   "execution_count": 26,
   "metadata": {
    "collapsed": false
   },
   "outputs": [
    {
     "name": "stdout",
     "output_type": "stream",
     "text": [
      "827301\n",
      "[[u'attorneys', u'appellant', u'robert', u'd', u'macgill', u'michael', u'd', u'moon', u'jr', u'kara', u'm', u'kapke', u'matthew', u'b', u'barr', u'barnes', u'thornburg', u'llp', u'indianapolis', u'indiana', u'attorneys', u'appellee', u'gregory', u'f', u'zoeller', u'attorney', u'general', u'indiana', u'thomas', u'm', u'fisher', u'solicitor', u'general', u'heather', u'h', u'mcveigh', u'deputy', u'attorney', u'general', u'indianapolis', u'indiana', u'john', u'c', u'trimble', u'lewis', u'wooton', u'lewis', u'wagner', u'llp', u'indianapolis', u'indiana', u'supreme', u'court', u'jan', u'pm'], [u'ct', u're', u'indiana', u'state', u'fair', u'litigation', u'mid', u'america', u'sound', u'corporation', u'appellant', u'defendant', u'v', u'indiana', u'state', u'fair', u'commission', u'et', u'al']]\n"
     ]
    }
   ],
   "source": [
    "print len(case_sents)\n",
    "print case_sents[:2]"
   ]
  },
  {
   "cell_type": "code",
   "execution_count": 27,
   "metadata": {
    "collapsed": false
   },
   "outputs": [
    {
     "name": "stdout",
     "output_type": "stream",
     "text": [
      "Training model...\n",
      "finished training!\n"
     ]
    }
   ],
   "source": [
    "from gensim.models import word2vec\n",
    "\n",
    "# Set values for various parameters\n",
    "num_features = 300    # Word vector dimensionality\n",
    "min_word_count = 40   # Minimum word count\n",
    "num_workers = 4       # Number of threads to run in parallel\n",
    "context = 10          # Context window size\n",
    "downsampling = 1e-3   # Downsample setting for frequent words\n",
    "\n",
    "# Initialize and train the model (this will take some time)\n",
    "print \"Training model...\"\n",
    "model = word2vec.Word2Vec(case_sents, workers=num_workers, size=num_features,\\\n",
    "                          min_count = min_word_count, window = context, sample = downsampling)\n",
    "\n",
    "# If you don't plan to train the model any further, calling\n",
    "# init_sims will make the model much more memory-efficient.\n",
    "model.init_sims(replace=True)\n",
    "\n",
    "# It can be helpful to create a meaningful model name and\n",
    "# save the model for later use. You can load it later using Word2Vec.load()\n",
    "model_name = \"300features_40minwords_10context\"\n",
    "model.save(model_name)\n",
    "print \"finished training!\""
   ]
  },
  {
   "cell_type": "code",
   "execution_count": null,
   "metadata": {
    "collapsed": true
   },
   "outputs": [],
   "source": []
  }
 ],
 "metadata": {
  "kernelspec": {
   "display_name": "Python 3",
   "language": "python",
   "name": "python3"
  },
  "language_info": {
   "codemirror_mode": {
    "name": "ipython",
    "version": 3
   },
   "file_extension": ".py",
   "mimetype": "text/x-python",
   "name": "python",
   "nbconvert_exporter": "python",
   "pygments_lexer": "ipython3",
   "version": "3.5.1"
  }
 },
 "nbformat": 4,
 "nbformat_minor": 0
}
